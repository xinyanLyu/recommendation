{
  "nbformat": 4,
  "nbformat_minor": 0,
  "metadata": {
    "colab": {
      "name": "HW7 - Recommendation",
      "version": "0.3.2",
      "provenance": [],
      "collapsed_sections": [],
      "include_colab_link": true
    },
    "kernelspec": {
      "name": "python3",
      "display_name": "Python 3"
    }
  },
  "cells": [
    {
      "cell_type": "markdown",
      "metadata": {
        "id": "view-in-github",
        "colab_type": "text"
      },
      "source": [
        "<a href=\"https://colab.research.google.com/github/xinyanLyu/recommendation/blob/master/HW7_Recommendation.ipynb\" target=\"_parent\"><img src=\"https://colab.research.google.com/assets/colab-badge.svg\" alt=\"Open In Colab\"/></a>"
      ]
    },
    {
      "metadata": {
        "id": "8mUrL4OvLZ9z",
        "colab_type": "text"
      },
      "cell_type": "markdown",
      "source": [
        "#Recommendation system \n",
        "*reference https://www.kaggle.com/laowingkin/netflix-movie-recommendation"
      ]
    },
    {
      "metadata": {
        "id": "sGTwHi8pmfO6",
        "colab_type": "text"
      },
      "cell_type": "markdown",
      "source": [
        "#Install"
      ]
    },
    {
      "metadata": {
        "id": "FFiyNEKLmfvB",
        "colab_type": "code",
        "colab": {}
      },
      "cell_type": "code",
      "source": [
        "import pandas as pd\n",
        "import numpy as np\n",
        "import scipy as sp\n",
        "from sklearn.metrics.pairwise import cosine_similarity\n",
        "import operator\n",
        "%matplotlib inline\n",
        "import math\n",
        "import re\n",
        "from scipy.sparse import csr_matrix\n",
        "import matplotlib.pyplot as plt\n",
        "import seaborn as sns\n"
      ],
      "execution_count": 0,
      "outputs": []
    },
    {
      "metadata": {
        "id": "tspghLQ97kpP",
        "colab_type": "code",
        "colab": {}
      },
      "cell_type": "code",
      "source": [
        "!pip install -q scikit-surprise"
      ],
      "execution_count": 0,
      "outputs": []
    },
    {
      "metadata": {
        "id": "U8_wkN_87nzc",
        "colab_type": "code",
        "colab": {}
      },
      "cell_type": "code",
      "source": [
        "from surprise import Reader, Dataset, SVD, evaluate\n",
        "from surprise.model_selection import cross_validate"
      ],
      "execution_count": 0,
      "outputs": []
    },
    {
      "metadata": {
        "id": "celv2pBNw0NA",
        "colab_type": "text"
      },
      "cell_type": "markdown",
      "source": [
        "#Mount GDrive and Import Data"
      ]
    },
    {
      "metadata": {
        "id": "avu1VyVKyUCW",
        "colab_type": "text"
      },
      "cell_type": "markdown",
      "source": [
        "###Mount GDrive"
      ]
    },
    {
      "metadata": {
        "id": "tT1q1mrhoTRO",
        "colab_type": "code",
        "outputId": "53352f92-5aa8-45cc-b196-53dc527d60b1",
        "colab": {
          "base_uri": "https://localhost:8080/",
          "height": 52
        }
      },
      "cell_type": "code",
      "source": [
        "from google.colab import drive\n",
        "drive.mount('/content/gdrive', force_remount=True)\n",
        "\n",
        "import os;os.listdir(\"/content/gdrive/My Drive/machine_learning/anime_recommendation\")"
      ],
      "execution_count": 0,
      "outputs": [
        {
          "output_type": "stream",
          "text": [
            "Mounted at /content/gdrive\n"
          ],
          "name": "stdout"
        },
        {
          "output_type": "execute_result",
          "data": {
            "text/plain": [
              "['anime.csv', 'rating.csv']"
            ]
          },
          "metadata": {
            "tags": []
          },
          "execution_count": 192
        }
      ]
    },
    {
      "metadata": {
        "id": "ixoiwUjRx6p1",
        "colab_type": "text"
      },
      "cell_type": "markdown",
      "source": [
        "###Import data"
      ]
    },
    {
      "metadata": {
        "id": "1g_R7Rq5x5Bd",
        "colab_type": "code",
        "colab": {}
      },
      "cell_type": "code",
      "source": [
        "# import data\n",
        "\n",
        "anime = pd.read_csv(\"/content/gdrive/My Drive/machine_learning/anime_recommendation/anime.csv\")\n",
        "ratings  = pd.read_csv(\"/content/gdrive/My Drive/machine_learning/anime_recommendation/rating.csv\")"
      ],
      "execution_count": 0,
      "outputs": []
    },
    {
      "metadata": {
        "id": "R8j8abR4yzMD",
        "colab_type": "text"
      },
      "cell_type": "markdown",
      "source": [
        "#Ingestion"
      ]
    },
    {
      "metadata": {
        "id": "ec0xMMGzy080",
        "colab_type": "code",
        "outputId": "03aaaf5c-23e1-4ec4-a1c3-5a9e76c7e3fb",
        "colab": {
          "base_uri": "https://localhost:8080/",
          "height": 197
        }
      },
      "cell_type": "code",
      "source": [
        "anime.head()"
      ],
      "execution_count": 0,
      "outputs": [
        {
          "output_type": "execute_result",
          "data": {
            "text/html": [
              "<div>\n",
              "<style scoped>\n",
              "    .dataframe tbody tr th:only-of-type {\n",
              "        vertical-align: middle;\n",
              "    }\n",
              "\n",
              "    .dataframe tbody tr th {\n",
              "        vertical-align: top;\n",
              "    }\n",
              "\n",
              "    .dataframe thead th {\n",
              "        text-align: right;\n",
              "    }\n",
              "</style>\n",
              "<table border=\"1\" class=\"dataframe\">\n",
              "  <thead>\n",
              "    <tr style=\"text-align: right;\">\n",
              "      <th></th>\n",
              "      <th>anime_id</th>\n",
              "      <th>name</th>\n",
              "      <th>genre</th>\n",
              "      <th>type</th>\n",
              "      <th>episodes</th>\n",
              "      <th>rating</th>\n",
              "      <th>members</th>\n",
              "    </tr>\n",
              "  </thead>\n",
              "  <tbody>\n",
              "    <tr>\n",
              "      <th>0</th>\n",
              "      <td>32281</td>\n",
              "      <td>Kimi no Na wa.</td>\n",
              "      <td>Drama, Romance, School, Supernatural</td>\n",
              "      <td>Movie</td>\n",
              "      <td>1</td>\n",
              "      <td>9.37</td>\n",
              "      <td>200630</td>\n",
              "    </tr>\n",
              "    <tr>\n",
              "      <th>1</th>\n",
              "      <td>5114</td>\n",
              "      <td>Fullmetal Alchemist: Brotherhood</td>\n",
              "      <td>Action, Adventure, Drama, Fantasy, Magic, Mili...</td>\n",
              "      <td>TV</td>\n",
              "      <td>64</td>\n",
              "      <td>9.26</td>\n",
              "      <td>793665</td>\n",
              "    </tr>\n",
              "    <tr>\n",
              "      <th>2</th>\n",
              "      <td>28977</td>\n",
              "      <td>Gintama°</td>\n",
              "      <td>Action, Comedy, Historical, Parody, Samurai, S...</td>\n",
              "      <td>TV</td>\n",
              "      <td>51</td>\n",
              "      <td>9.25</td>\n",
              "      <td>114262</td>\n",
              "    </tr>\n",
              "    <tr>\n",
              "      <th>3</th>\n",
              "      <td>9253</td>\n",
              "      <td>Steins;Gate</td>\n",
              "      <td>Sci-Fi, Thriller</td>\n",
              "      <td>TV</td>\n",
              "      <td>24</td>\n",
              "      <td>9.17</td>\n",
              "      <td>673572</td>\n",
              "    </tr>\n",
              "    <tr>\n",
              "      <th>4</th>\n",
              "      <td>9969</td>\n",
              "      <td>Gintama&amp;#039;</td>\n",
              "      <td>Action, Comedy, Historical, Parody, Samurai, S...</td>\n",
              "      <td>TV</td>\n",
              "      <td>51</td>\n",
              "      <td>9.16</td>\n",
              "      <td>151266</td>\n",
              "    </tr>\n",
              "  </tbody>\n",
              "</table>\n",
              "</div>"
            ],
            "text/plain": [
              "   anime_id                              name  \\\n",
              "0     32281                    Kimi no Na wa.   \n",
              "1      5114  Fullmetal Alchemist: Brotherhood   \n",
              "2     28977                          Gintama°   \n",
              "3      9253                       Steins;Gate   \n",
              "4      9969                     Gintama&#039;   \n",
              "\n",
              "                                               genre   type episodes  rating  \\\n",
              "0               Drama, Romance, School, Supernatural  Movie        1    9.37   \n",
              "1  Action, Adventure, Drama, Fantasy, Magic, Mili...     TV       64    9.26   \n",
              "2  Action, Comedy, Historical, Parody, Samurai, S...     TV       51    9.25   \n",
              "3                                   Sci-Fi, Thriller     TV       24    9.17   \n",
              "4  Action, Comedy, Historical, Parody, Samurai, S...     TV       51    9.16   \n",
              "\n",
              "   members  \n",
              "0   200630  \n",
              "1   793665  \n",
              "2   114262  \n",
              "3   673572  \n",
              "4   151266  "
            ]
          },
          "metadata": {
            "tags": []
          },
          "execution_count": 194
        }
      ]
    },
    {
      "metadata": {
        "id": "NtnRXSbFznev",
        "colab_type": "code",
        "outputId": "9e69f13d-98a4-4b86-e6ab-434e8b2c3a5d",
        "colab": {
          "base_uri": "https://localhost:8080/",
          "height": 347
        }
      },
      "cell_type": "code",
      "source": [
        "ratings.head(10)"
      ],
      "execution_count": 0,
      "outputs": [
        {
          "output_type": "execute_result",
          "data": {
            "text/html": [
              "<div>\n",
              "<style scoped>\n",
              "    .dataframe tbody tr th:only-of-type {\n",
              "        vertical-align: middle;\n",
              "    }\n",
              "\n",
              "    .dataframe tbody tr th {\n",
              "        vertical-align: top;\n",
              "    }\n",
              "\n",
              "    .dataframe thead th {\n",
              "        text-align: right;\n",
              "    }\n",
              "</style>\n",
              "<table border=\"1\" class=\"dataframe\">\n",
              "  <thead>\n",
              "    <tr style=\"text-align: right;\">\n",
              "      <th></th>\n",
              "      <th>user_id</th>\n",
              "      <th>anime_id</th>\n",
              "      <th>rating</th>\n",
              "    </tr>\n",
              "  </thead>\n",
              "  <tbody>\n",
              "    <tr>\n",
              "      <th>0</th>\n",
              "      <td>1</td>\n",
              "      <td>20</td>\n",
              "      <td>-1</td>\n",
              "    </tr>\n",
              "    <tr>\n",
              "      <th>1</th>\n",
              "      <td>1</td>\n",
              "      <td>24</td>\n",
              "      <td>-1</td>\n",
              "    </tr>\n",
              "    <tr>\n",
              "      <th>2</th>\n",
              "      <td>1</td>\n",
              "      <td>79</td>\n",
              "      <td>-1</td>\n",
              "    </tr>\n",
              "    <tr>\n",
              "      <th>3</th>\n",
              "      <td>1</td>\n",
              "      <td>226</td>\n",
              "      <td>-1</td>\n",
              "    </tr>\n",
              "    <tr>\n",
              "      <th>4</th>\n",
              "      <td>1</td>\n",
              "      <td>241</td>\n",
              "      <td>-1</td>\n",
              "    </tr>\n",
              "    <tr>\n",
              "      <th>5</th>\n",
              "      <td>1</td>\n",
              "      <td>355</td>\n",
              "      <td>-1</td>\n",
              "    </tr>\n",
              "    <tr>\n",
              "      <th>6</th>\n",
              "      <td>1</td>\n",
              "      <td>356</td>\n",
              "      <td>-1</td>\n",
              "    </tr>\n",
              "    <tr>\n",
              "      <th>7</th>\n",
              "      <td>1</td>\n",
              "      <td>442</td>\n",
              "      <td>-1</td>\n",
              "    </tr>\n",
              "    <tr>\n",
              "      <th>8</th>\n",
              "      <td>1</td>\n",
              "      <td>487</td>\n",
              "      <td>-1</td>\n",
              "    </tr>\n",
              "    <tr>\n",
              "      <th>9</th>\n",
              "      <td>1</td>\n",
              "      <td>846</td>\n",
              "      <td>-1</td>\n",
              "    </tr>\n",
              "  </tbody>\n",
              "</table>\n",
              "</div>"
            ],
            "text/plain": [
              "   user_id  anime_id  rating\n",
              "0        1        20      -1\n",
              "1        1        24      -1\n",
              "2        1        79      -1\n",
              "3        1       226      -1\n",
              "4        1       241      -1\n",
              "5        1       355      -1\n",
              "6        1       356      -1\n",
              "7        1       442      -1\n",
              "8        1       487      -1\n",
              "9        1       846      -1"
            ]
          },
          "metadata": {
            "tags": []
          },
          "execution_count": 195
        }
      ]
    },
    {
      "metadata": {
        "id": "evPvsxq30WZ2",
        "colab_type": "code",
        "outputId": "a4181d15-99d5-4399-a613-f77ac95df7a0",
        "colab": {
          "base_uri": "https://localhost:8080/",
          "height": 197
        }
      },
      "cell_type": "code",
      "source": [
        " #ratings dataset uses a \"-1\" to represent missing ratings\n",
        " #convert them into NaN\n",
        "ratings.rating.replace({-1: np.nan}, regex=True, inplace = True)\n",
        "ratings.head()\n"
      ],
      "execution_count": 0,
      "outputs": [
        {
          "output_type": "execute_result",
          "data": {
            "text/html": [
              "<div>\n",
              "<style scoped>\n",
              "    .dataframe tbody tr th:only-of-type {\n",
              "        vertical-align: middle;\n",
              "    }\n",
              "\n",
              "    .dataframe tbody tr th {\n",
              "        vertical-align: top;\n",
              "    }\n",
              "\n",
              "    .dataframe thead th {\n",
              "        text-align: right;\n",
              "    }\n",
              "</style>\n",
              "<table border=\"1\" class=\"dataframe\">\n",
              "  <thead>\n",
              "    <tr style=\"text-align: right;\">\n",
              "      <th></th>\n",
              "      <th>user_id</th>\n",
              "      <th>anime_id</th>\n",
              "      <th>rating</th>\n",
              "    </tr>\n",
              "  </thead>\n",
              "  <tbody>\n",
              "    <tr>\n",
              "      <th>0</th>\n",
              "      <td>1</td>\n",
              "      <td>20</td>\n",
              "      <td>NaN</td>\n",
              "    </tr>\n",
              "    <tr>\n",
              "      <th>1</th>\n",
              "      <td>1</td>\n",
              "      <td>24</td>\n",
              "      <td>NaN</td>\n",
              "    </tr>\n",
              "    <tr>\n",
              "      <th>2</th>\n",
              "      <td>1</td>\n",
              "      <td>79</td>\n",
              "      <td>NaN</td>\n",
              "    </tr>\n",
              "    <tr>\n",
              "      <th>3</th>\n",
              "      <td>1</td>\n",
              "      <td>226</td>\n",
              "      <td>NaN</td>\n",
              "    </tr>\n",
              "    <tr>\n",
              "      <th>4</th>\n",
              "      <td>1</td>\n",
              "      <td>241</td>\n",
              "      <td>NaN</td>\n",
              "    </tr>\n",
              "  </tbody>\n",
              "</table>\n",
              "</div>"
            ],
            "text/plain": [
              "   user_id  anime_id  rating\n",
              "0        1        20     NaN\n",
              "1        1        24     NaN\n",
              "2        1        79     NaN\n",
              "3        1       226     NaN\n",
              "4        1       241     NaN"
            ]
          },
          "metadata": {
            "tags": []
          },
          "execution_count": 196
        }
      ]
    },
    {
      "metadata": {
        "id": "VhBSmi00L6qH",
        "colab_type": "code",
        "outputId": "8cb13b1f-bce1-4747-86ec-deae4a12bfd1",
        "colab": {
          "base_uri": "https://localhost:8080/",
          "height": 349
        }
      },
      "cell_type": "code",
      "source": [
        "print('Full dataset shape: {}'.format(ratings.shape))\n",
        "print('-Dataset examples-')\n",
        "print(ratings.iloc[::500000, :])"
      ],
      "execution_count": 0,
      "outputs": [
        {
          "output_type": "stream",
          "text": [
            "Full dataset shape: (7813737, 3)\n",
            "-Dataset examples-\n",
            "         user_id  anime_id  rating\n",
            "0              1        20     NaN\n",
            "500000      5078       322     8.0\n",
            "1000000     9358     29785     NaN\n",
            "1500000    14423     31553     NaN\n",
            "2000000    19384     20359     9.0\n",
            "2500000    23753      5998     9.0\n",
            "3000000    27818       481    10.0\n",
            "3500000    32385     31163     9.0\n",
            "4000000    37894      9756    10.0\n",
            "4500000    42666     16498     9.0\n",
            "5000000    47849     22335     NaN\n",
            "5500000    51804      5973     7.0\n",
            "6000000    56313     18495     9.0\n",
            "6500000    60048     16498     8.0\n",
            "7000000    65397       372     NaN\n",
            "7500000    70140     15809     8.0\n"
          ],
          "name": "stdout"
        }
      ]
    },
    {
      "metadata": {
        "id": "unTmWjXYXP9B",
        "colab_type": "code",
        "outputId": "d4efc61e-d537-41db-c502-17ed03045599",
        "colab": {
          "base_uri": "https://localhost:8080/",
          "height": 34
        }
      },
      "cell_type": "code",
      "source": [
        "pd.isnull(ratings.rating).sum()"
      ],
      "execution_count": 0,
      "outputs": [
        {
          "output_type": "execute_result",
          "data": {
            "text/plain": [
              "1476496"
            ]
          },
          "metadata": {
            "tags": []
          },
          "execution_count": 198
        }
      ]
    },
    {
      "metadata": {
        "id": "OI9U5fNDVkwb",
        "colab_type": "code",
        "outputId": "87627dbb-1ffe-4b94-d498-eb61eee412e5",
        "colab": {
          "base_uri": "https://localhost:8080/",
          "height": 34
        }
      },
      "cell_type": "code",
      "source": [
        "df = ratings[pd.notnull(ratings['rating'])]\n",
        "pd.isnull(df.rating).sum()"
      ],
      "execution_count": 0,
      "outputs": [
        {
          "output_type": "execute_result",
          "data": {
            "text/plain": [
              "0"
            ]
          },
          "metadata": {
            "tags": []
          },
          "execution_count": 199
        }
      ]
    },
    {
      "metadata": {
        "id": "gyyZD2H6Y2OD",
        "colab_type": "code",
        "outputId": "1fecb80c-36cc-4eb1-9634-3b0f3c9dab17",
        "colab": {
          "base_uri": "https://localhost:8080/",
          "height": 297
        }
      },
      "cell_type": "code",
      "source": [
        "print('Full dataset shape: {}'.format(df.shape))\n",
        "print('-Dataset examples-')\n",
        "print(df.iloc[::500000, :])"
      ],
      "execution_count": 0,
      "outputs": [
        {
          "output_type": "stream",
          "text": [
            "Full dataset shape: (6337241, 3)\n",
            "-Dataset examples-\n",
            "         user_id  anime_id  rating\n",
            "47             1      8074    10.0\n",
            "618483      5966      1567    10.0\n",
            "1223634    11540       468     8.0\n",
            "1847443    17895       934     7.0\n",
            "2461148    23456     10536     8.0\n",
            "3077923    28494      3588     8.0\n",
            "3702071    34582       143     8.0\n",
            "4327326    40902        47     7.0\n",
            "4947047    47408      2593     8.0\n",
            "5564299    52282       725     5.0\n",
            "6173637    57759      1559     9.0\n",
            "6774235    62668     15039    10.0\n",
            "7391914    68925      5112     6.0\n"
          ],
          "name": "stdout"
        }
      ]
    },
    {
      "metadata": {
        "id": "oHzHkGEwaunB",
        "colab_type": "text"
      },
      "cell_type": "markdown",
      "source": [
        "#EDA"
      ]
    },
    {
      "metadata": {
        "id": "ZSl0C4Oba7ua",
        "colab_type": "code",
        "outputId": "cc34507f-e7a1-45a6-ae0f-c6081eb78377",
        "colab": {
          "base_uri": "https://localhost:8080/",
          "height": 377
        }
      },
      "cell_type": "code",
      "source": [
        "p = df.groupby('rating')['rating'].agg(['count'])\n",
        "p.head(10)"
      ],
      "execution_count": 0,
      "outputs": [
        {
          "output_type": "execute_result",
          "data": {
            "text/html": [
              "<div>\n",
              "<style scoped>\n",
              "    .dataframe tbody tr th:only-of-type {\n",
              "        vertical-align: middle;\n",
              "    }\n",
              "\n",
              "    .dataframe tbody tr th {\n",
              "        vertical-align: top;\n",
              "    }\n",
              "\n",
              "    .dataframe thead th {\n",
              "        text-align: right;\n",
              "    }\n",
              "</style>\n",
              "<table border=\"1\" class=\"dataframe\">\n",
              "  <thead>\n",
              "    <tr style=\"text-align: right;\">\n",
              "      <th></th>\n",
              "      <th>count</th>\n",
              "    </tr>\n",
              "    <tr>\n",
              "      <th>rating</th>\n",
              "      <th></th>\n",
              "    </tr>\n",
              "  </thead>\n",
              "  <tbody>\n",
              "    <tr>\n",
              "      <th>1.0</th>\n",
              "      <td>16649</td>\n",
              "    </tr>\n",
              "    <tr>\n",
              "      <th>2.0</th>\n",
              "      <td>23150</td>\n",
              "    </tr>\n",
              "    <tr>\n",
              "      <th>3.0</th>\n",
              "      <td>41453</td>\n",
              "    </tr>\n",
              "    <tr>\n",
              "      <th>4.0</th>\n",
              "      <td>104291</td>\n",
              "    </tr>\n",
              "    <tr>\n",
              "      <th>5.0</th>\n",
              "      <td>282806</td>\n",
              "    </tr>\n",
              "    <tr>\n",
              "      <th>6.0</th>\n",
              "      <td>637775</td>\n",
              "    </tr>\n",
              "    <tr>\n",
              "      <th>7.0</th>\n",
              "      <td>1375287</td>\n",
              "    </tr>\n",
              "    <tr>\n",
              "      <th>8.0</th>\n",
              "      <td>1646019</td>\n",
              "    </tr>\n",
              "    <tr>\n",
              "      <th>9.0</th>\n",
              "      <td>1254096</td>\n",
              "    </tr>\n",
              "    <tr>\n",
              "      <th>10.0</th>\n",
              "      <td>955715</td>\n",
              "    </tr>\n",
              "  </tbody>\n",
              "</table>\n",
              "</div>"
            ],
            "text/plain": [
              "          count\n",
              "rating         \n",
              "1.0       16649\n",
              "2.0       23150\n",
              "3.0       41453\n",
              "4.0      104291\n",
              "5.0      282806\n",
              "6.0      637775\n",
              "7.0     1375287\n",
              "8.0     1646019\n",
              "9.0     1254096\n",
              "10.0     955715"
            ]
          },
          "metadata": {
            "tags": []
          },
          "execution_count": 201
        }
      ]
    },
    {
      "metadata": {
        "id": "3tMegPGNtezB",
        "colab_type": "code",
        "outputId": "f07ae6c3-52c4-4f4f-b98e-50d0c4643d4e",
        "colab": {
          "base_uri": "https://localhost:8080/",
          "height": 414
        }
      },
      "cell_type": "code",
      "source": [
        "sns.set_context('notebook')\n",
        "sns.countplot(x='rating',data=df)"
      ],
      "execution_count": 0,
      "outputs": [
        {
          "output_type": "stream",
          "text": [
            "/usr/local/lib/python3.6/dist-packages/seaborn/categorical.py:1428: FutureWarning: remove_na is deprecated and is a private function. Do not use.\n",
            "  stat_data = remove_na(group_data)\n"
          ],
          "name": "stderr"
        },
        {
          "output_type": "execute_result",
          "data": {
            "text/plain": [
              "<matplotlib.axes._subplots.AxesSubplot at 0x7f1dc03e40f0>"
            ]
          },
          "metadata": {
            "tags": []
          },
          "execution_count": 268
        },
        {
          "output_type": "display_data",
          "data": {
            "image/png": "[encoded data removed]",
            "text/plain": [
              "<Figure size 576x396 with 1 Axes>"
            ]
          },
          "metadata": {
            "tags": []
          }
        }
      ]
    },
    {
      "metadata": {
        "id": "I88Wx_dgiE8N",
        "colab_type": "code",
        "outputId": "bda053c8-9e43-4575-eb20-52172157496b",
        "colab": {
          "base_uri": "https://localhost:8080/",
          "height": 434
        }
      },
      "cell_type": "code",
      "source": [
        "import warnings\n",
        "import matplotlib.cbook\n",
        "warnings.filterwarnings(\"ignore\",category=matplotlib.cbook.mplDeprecation)\n",
        "sns.set(style=\"white\", palette=\"muted\", color_codes=True)\n",
        "sns.kdeplot(anime.rating, shade=True,color=\"b\")\n"
      ],
      "execution_count": 0,
      "outputs": [
        {
          "output_type": "stream",
          "text": [
            "/usr/local/lib/python3.6/dist-packages/statsmodels/nonparametric/kde.py:454: RuntimeWarning: invalid value encountered in greater\n",
            "  X = X[np.logical_and(X>clip[0], X<clip[1])] # won't work for two columns.\n",
            "/usr/local/lib/python3.6/dist-packages/statsmodels/nonparametric/kde.py:454: RuntimeWarning: invalid value encountered in less\n",
            "  X = X[np.logical_and(X>clip[0], X<clip[1])] # won't work for two columns.\n"
          ],
          "name": "stderr"
        },
        {
          "output_type": "execute_result",
          "data": {
            "text/plain": [
              "<matplotlib.axes._subplots.AxesSubplot at 0x7f1e0f3f71d0>"
            ]
          },
          "metadata": {
            "tags": []
          },
          "execution_count": 237
        },
        {
          "output_type": "display_data",
          "data": {
            "image/png": "[encoded data removed]",
            "text/plain": [
              "<Figure size 576x396 with 1 Axes>"
            ]
          },
          "metadata": {
            "tags": []
          }
        }
      ]
    },
    {
      "metadata": {
        "id": "KqNMtpa3sB-6",
        "colab_type": "code",
        "outputId": "51f25bba-8302-44cb-9ca7-8bec525cdda7",
        "colab": {
          "base_uri": "https://localhost:8080/",
          "height": 221
        }
      },
      "cell_type": "code",
      "source": [
        "\n",
        "grid = sns.FacetGrid(anime, hue=\"type\")\n",
        "grid.map(sns.kdeplot, 'rating')\n",
        "grid.add_legend()\n",
        "\n",
        "plt.show()\n"
      ],
      "execution_count": 0,
      "outputs": [
        {
          "output_type": "display_data",
          "data": {
            "image/png": "[encoded data removed]",
            "text/plain": [
              "<Figure size 284.75x216 with 1 Axes>"
            ]
          },
          "metadata": {
            "tags": []
          }
        }
      ]
    },
    {
      "metadata": {
        "id": "W4ke0FPggQZC",
        "colab_type": "text"
      },
      "cell_type": "markdown",
      "source": [
        "#Modeling"
      ]
    },
    {
      "metadata": {
        "id": "K7MsNcpLgSxv",
        "colab_type": "text"
      },
      "cell_type": "markdown",
      "source": [
        "##Data preparing"
      ]
    },
    {
      "metadata": {
        "id": "DP40NUo8geBR",
        "colab_type": "text"
      },
      "cell_type": "markdown",
      "source": [
        "###Slicing bench mark\n",
        "*Remove animation with too few reviews (they are relatively not popular)\n",
        "\n",
        "*Remove user who give too lfew reviews (they are relatively less active)"
      ]
    },
    {
      "metadata": {
        "id": "-9WlCUUEgVTE",
        "colab_type": "code",
        "outputId": "851c7c5b-598e-4b24-e9cb-a62a27680c1c",
        "colab": {
          "base_uri": "https://localhost:8080/",
          "height": 34
        }
      },
      "cell_type": "code",
      "source": [
        "f = ['count','mean']\n",
        "\n",
        "df_anime_summary = df.groupby('anime_id')['rating'].agg(f)\n",
        "df_anime_summary.index = df_anime_summary.index.map(int)\n",
        "anime_benchmark = round(df_anime_summary['count'].quantile(0.8),0)\n",
        "drop_anime_list = df_anime_summary[df_anime_summary['count'] < anime_benchmark].index\n",
        "\n",
        "print('Anime minimum times of review: {}'.format(anime_benchmark))\n"
      ],
      "execution_count": 0,
      "outputs": [
        {
          "output_type": "stream",
          "text": [
            "Anime minimum times of review: 614.0\n"
          ],
          "name": "stdout"
        }
      ]
    },
    {
      "metadata": {
        "id": "v6_gywfRhUyI",
        "colab_type": "code",
        "outputId": "7938a7a4-4dd5-4dc6-df33-16941551efe2",
        "colab": {
          "base_uri": "https://localhost:8080/",
          "height": 34
        }
      },
      "cell_type": "code",
      "source": [
        "df_user_summary = df.groupby('user_id')['rating'].agg(f)\n",
        "df_user_summary.index = df_user_summary.index.map(int)\n",
        "user_benchmark = round(df_user_summary['count'].quantile(0.8),0)\n",
        "drop_user_list = df_user_summary[df_user_summary['count'] < user_benchmark].index\n",
        "\n",
        "print('User minimum times of review: {}'.format(user_benchmark))"
      ],
      "execution_count": 0,
      "outputs": [
        {
          "output_type": "stream",
          "text": [
            "User minimum times of review: 140.0\n"
          ],
          "name": "stdout"
        }
      ]
    },
    {
      "metadata": {
        "id": "bfYGw-jfmLH2",
        "colab_type": "code",
        "outputId": "b4dd7bb7-c024-401f-a5f2-7809f0c2c27a",
        "colab": {
          "base_uri": "https://localhost:8080/",
          "height": 209
        }
      },
      "cell_type": "code",
      "source": [
        "print('Original Shape: {}'.format(df.shape))\n",
        "df = df[~df['anime_id'].isin(drop_anime_list)]\n",
        "df = df[~df['user_id'].isin(drop_user_list)]\n",
        "print('After Trim Shape: {}'.format(df.shape))\n",
        "print('-Data Examples-')\n",
        "print(df.iloc[::500000, :])"
      ],
      "execution_count": 0,
      "outputs": [
        {
          "output_type": "stream",
          "text": [
            "Original Shape: (6337241, 3)\n",
            "After Trim Shape: (3479222, 3)\n",
            "-Data Examples-\n",
            "         user_id  anime_id  rating\n",
            "302            5         6     8.0\n",
            "1137289    10903       401    10.0\n",
            "2273100    21893      5355     8.0\n",
            "3312509    30548     12113    10.0\n",
            "4488658    42533     15377     6.0\n",
            "5619236    52763       918    10.0\n",
            "6672962    61547     14829     6.0\n"
          ],
          "name": "stdout"
        }
      ]
    },
    {
      "metadata": {
        "id": "jzNRZ1L57P3I",
        "colab_type": "text"
      },
      "cell_type": "markdown",
      "source": [
        "###pivot dataframe"
      ]
    },
    {
      "metadata": {
        "id": "IrzM4OXInIIe",
        "colab_type": "code",
        "outputId": "525e57bc-9335-47cd-8426-299606153338",
        "colab": {
          "base_uri": "https://localhost:8080/",
          "height": 34
        }
      },
      "cell_type": "code",
      "source": [
        "df_p = pd.pivot_table(df,values='rating',index='user_id',columns='anime_id')\n",
        "\n",
        "print(df_p.shape)"
      ],
      "execution_count": 0,
      "outputs": [
        {
          "output_type": "stream",
          "text": [
            "(14039, 1987)\n"
          ],
          "name": "stdout"
        }
      ]
    },
    {
      "metadata": {
        "id": "J09-WtIsnqwS",
        "colab_type": "text"
      },
      "cell_type": "markdown",
      "source": [
        "##Recommendation model - Collaborative Filtering SVD"
      ]
    },
    {
      "metadata": {
        "id": "mwU_CYbmnrLf",
        "colab_type": "code",
        "outputId": "8a01a93d-21b7-497d-b777-0bc02e71f96e",
        "colab": {
          "base_uri": "https://localhost:8080/",
          "height": 559
        }
      },
      "cell_type": "code",
      "source": [
        "reader = Reader()\n",
        "\n",
        "# get just top 100K rows for faster run time\n",
        "data = Dataset.load_from_df(df[['user_id', 'anime_id', 'rating']], reader)\n",
        "data.split(n_folds=3)\n",
        "\n",
        "svd = SVD()\n",
        "evaluate(svd, data, measures=['RMSE', 'MAE'])"
      ],
      "execution_count": 0,
      "outputs": [
        {
          "output_type": "stream",
          "text": [
            "/usr/local/lib/python3.6/dist-packages/surprise/evaluate.py:66: UserWarning: The evaluate() method is deprecated. Please use model_selection.cross_validate() instead.\n",
            "  'model_selection.cross_validate() instead.', UserWarning)\n",
            "/usr/local/lib/python3.6/dist-packages/surprise/dataset.py:193: UserWarning: Using data.split() or using load_from_folds() without using a CV iterator is now deprecated. \n",
            "  UserWarning)\n"
          ],
          "name": "stderr"
        },
        {
          "output_type": "stream",
          "text": [
            "Evaluating RMSE, MAE of algorithm SVD.\n",
            "\n",
            "------------\n",
            "Fold 1\n",
            "RMSE: 3.1519\n",
            "MAE:  2.8540\n",
            "------------\n",
            "Fold 2\n",
            "RMSE: 3.1528\n",
            "MAE:  2.8555\n",
            "------------\n",
            "Fold 3\n",
            "RMSE: 3.1534\n",
            "MAE:  2.8564\n",
            "------------\n",
            "------------\n",
            "Mean RMSE: 3.1527\n",
            "Mean MAE : 2.8553\n",
            "------------\n",
            "------------\n"
          ],
          "name": "stdout"
        },
        {
          "output_type": "execute_result",
          "data": {
            "text/plain": [
              "CaseInsensitiveDefaultDict(list,\n",
              "                           {'mae': [2.853981654900793,\n",
              "                             2.8554798045646415,\n",
              "                             2.8564113508188758],\n",
              "                            'rmse': [3.1518731657587296,\n",
              "                             3.1527896290197117,\n",
              "                             3.1534214991446143]})"
            ]
          },
          "metadata": {
            "tags": []
          },
          "execution_count": 208
        }
      ]
    },
    {
      "metadata": {
        "id": "CSrCnLthsnj-",
        "colab_type": "text"
      },
      "cell_type": "markdown",
      "source": [
        "#### show part of one user's ratings history"
      ]
    },
    {
      "metadata": {
        "id": "5OkzWEVWr91P",
        "colab_type": "code",
        "colab": {}
      },
      "cell_type": "code",
      "source": [
        "anime.set_index('anime_id', inplace = True)"
      ],
      "execution_count": 0,
      "outputs": []
    },
    {
      "metadata": {
        "id": "5--DLnpzsh_4",
        "colab_type": "code",
        "outputId": "2c953a4d-7b6b-4fd7-c590-5da6d2f5badf",
        "colab": {
          "base_uri": "https://localhost:8080/",
          "height": 227
        }
      },
      "cell_type": "code",
      "source": [
        "anime.head()"
      ],
      "execution_count": 0,
      "outputs": [
        {
          "output_type": "execute_result",
          "data": {
            "text/html": [
              "<div>\n",
              "<style scoped>\n",
              "    .dataframe tbody tr th:only-of-type {\n",
              "        vertical-align: middle;\n",
              "    }\n",
              "\n",
              "    .dataframe tbody tr th {\n",
              "        vertical-align: top;\n",
              "    }\n",
              "\n",
              "    .dataframe thead th {\n",
              "        text-align: right;\n",
              "    }\n",
              "</style>\n",
              "<table border=\"1\" class=\"dataframe\">\n",
              "  <thead>\n",
              "    <tr style=\"text-align: right;\">\n",
              "      <th></th>\n",
              "      <th>name</th>\n",
              "      <th>genre</th>\n",
              "      <th>type</th>\n",
              "      <th>episodes</th>\n",
              "      <th>rating</th>\n",
              "      <th>members</th>\n",
              "    </tr>\n",
              "    <tr>\n",
              "      <th>anime_id</th>\n",
              "      <th></th>\n",
              "      <th></th>\n",
              "      <th></th>\n",
              "      <th></th>\n",
              "      <th></th>\n",
              "      <th></th>\n",
              "    </tr>\n",
              "  </thead>\n",
              "  <tbody>\n",
              "    <tr>\n",
              "      <th>32281</th>\n",
              "      <td>Kimi no Na wa.</td>\n",
              "      <td>Drama, Romance, School, Supernatural</td>\n",
              "      <td>Movie</td>\n",
              "      <td>1</td>\n",
              "      <td>9.37</td>\n",
              "      <td>200630</td>\n",
              "    </tr>\n",
              "    <tr>\n",
              "      <th>5114</th>\n",
              "      <td>Fullmetal Alchemist: Brotherhood</td>\n",
              "      <td>Action, Adventure, Drama, Fantasy, Magic, Mili...</td>\n",
              "      <td>TV</td>\n",
              "      <td>64</td>\n",
              "      <td>9.26</td>\n",
              "      <td>793665</td>\n",
              "    </tr>\n",
              "    <tr>\n",
              "      <th>28977</th>\n",
              "      <td>Gintama°</td>\n",
              "      <td>Action, Comedy, Historical, Parody, Samurai, S...</td>\n",
              "      <td>TV</td>\n",
              "      <td>51</td>\n",
              "      <td>9.25</td>\n",
              "      <td>114262</td>\n",
              "    </tr>\n",
              "    <tr>\n",
              "      <th>9253</th>\n",
              "      <td>Steins;Gate</td>\n",
              "      <td>Sci-Fi, Thriller</td>\n",
              "      <td>TV</td>\n",
              "      <td>24</td>\n",
              "      <td>9.17</td>\n",
              "      <td>673572</td>\n",
              "    </tr>\n",
              "    <tr>\n",
              "      <th>9969</th>\n",
              "      <td>Gintama&amp;#039;</td>\n",
              "      <td>Action, Comedy, Historical, Parody, Samurai, S...</td>\n",
              "      <td>TV</td>\n",
              "      <td>51</td>\n",
              "      <td>9.16</td>\n",
              "      <td>151266</td>\n",
              "    </tr>\n",
              "  </tbody>\n",
              "</table>\n",
              "</div>"
            ],
            "text/plain": [
              "                                      name  \\\n",
              "anime_id                                     \n",
              "32281                       Kimi no Na wa.   \n",
              "5114      Fullmetal Alchemist: Brotherhood   \n",
              "28977                             Gintama°   \n",
              "9253                           Steins;Gate   \n",
              "9969                         Gintama&#039;   \n",
              "\n",
              "                                                      genre   type episodes  \\\n",
              "anime_id                                                                      \n",
              "32281                  Drama, Romance, School, Supernatural  Movie        1   \n",
              "5114      Action, Adventure, Drama, Fantasy, Magic, Mili...     TV       64   \n",
              "28977     Action, Comedy, Historical, Parody, Samurai, S...     TV       51   \n",
              "9253                                       Sci-Fi, Thriller     TV       24   \n",
              "9969      Action, Comedy, Historical, Parody, Samurai, S...     TV       51   \n",
              "\n",
              "          rating  members  \n",
              "anime_id                   \n",
              "32281       9.37   200630  \n",
              "5114        9.26   793665  \n",
              "28977       9.25   114262  \n",
              "9253        9.17   673572  \n",
              "9969        9.16   151266  "
            ]
          },
          "metadata": {
            "tags": []
          },
          "execution_count": 210
        }
      ]
    },
    {
      "metadata": {
        "id": "yjIYODU_ovJc",
        "colab_type": "code",
        "outputId": "6da58469-2907-48c4-ea33-fdb3d05e0608",
        "colab": {
          "base_uri": "https://localhost:8080/",
          "height": 1154
        }
      },
      "cell_type": "code",
      "source": [
        "anime_name = anime['name']\n",
        "df_23456 = df[(df['user_id'] == 23456 ) & (df['rating'] == 8.0)]\n",
        "df_23456  = df_23456 .set_index('anime_id')\n",
        "df_23456  = df_23456 .join(anime_name)\n",
        "print(df_23456 )"
      ],
      "execution_count": 0,
      "outputs": [
        {
          "output_type": "stream",
          "text": [
            "          user_id  rating                                               name\n",
            "anime_id                                                                    \n",
            "5           23456     8.0                    Cowboy Bebop: Tengoku no Tobira\n",
            "43          23456     8.0                                 Ghost in the Shell\n",
            "51          23456     8.0                                   Tenshi Kinryouku\n",
            "59          23456     8.0                                            Chobits\n",
            "71          23456     8.0                                  Full Metal Panic!\n",
            "90          23456     8.0                            Mobile Suit Gundam Wing\n",
            "134         23456     8.0                                    Gunslinger Girl\n",
            "154         23456     8.0                                        Shaman King\n",
            "199         23456     8.0                      Sen to Chihiro no Kamikakushi\n",
            "223         23456     8.0                                        Dragon Ball\n",
            "270         23456     8.0                                           Hellsing\n",
            "527         23456     8.0                                            Pokemon\n",
            "528         23456     8.0                       Pokemon: Mewtwo no Gyakushuu\n",
            "856         23456     8.0                                      Utawarerumono\n",
            "894         23456     8.0    Dragon Ball Z Movie 01: Ora no Gohan wo Kaese!!\n",
            "895         23456     8.0  Dragon Ball Z Movie 02: Kono Yo de Ichiban Tsu...\n",
            "897         23456     8.0  Dragon Ball Z Movie 04: Super Saiyajin da Son ...\n",
            "900         23456     8.0  Dragon Ball Z Movie 07: Kyokugen Battle!! Sand...\n",
            "1029        23456     8.0                                    Omoide Poroporo\n",
            "1594        23456     8.0                           Jigoku Shoujo Futakomori\n",
            "2025        23456     8.0              Darker than Black: Kuro no Keiyakusha\n",
            "3713        23456     8.0                           Jigoku Shoujo Mitsuganae\n",
            "4182        23456     8.0      Darker than Black: Kuro no Keiyakusha Special\n",
            "5525        23456     8.0                                           07-Ghost\n",
            "6347        23456     8.0                         Baka to Test to Shoukanjuu\n",
            "6547        23456     8.0                                       Angel Beats!\n",
            "6573        23456     8.0               Darker than Black: Ryuusei no Gemini\n",
            "6682        23456     8.0                                             11eyes\n",
            "7674        23456     8.0                                           Bakuman.\n",
            "8516        23456     8.0                     Baka to Test to Shoukanjuu Ni!\n",
            "...           ...     ...                                                ...\n",
            "9479        23456     8.0                                          Coppelion\n",
            "9919        23456     8.0                                     Ao no Exorcist\n",
            "10163       23456     8.0       C: The Money of Soul and Possibility Control\n",
            "10187       23456     8.0                                       HenSemi (TV)\n",
            "10209       23456     8.0                        Kore wa Zombie Desu ka? OVA\n",
            "10417       23456     8.0                                                Gyo\n",
            "10460       23456     8.0                                      Kimi to Boku.\n",
            "10536       23456     8.0                 Kimi ni Todoke 2nd Season Specials\n",
            "10568       23456     8.0                               Kamisama no Memochou\n",
            "10719       23456     8.0                       Boku wa Tomodachi ga Sukunai\n",
            "11113       23456     8.0                                Usagi Drop Specials\n",
            "11739       23456     8.0                                    Kimi to Boku. 2\n",
            "12883       23456     8.0                                          Tsuritama\n",
            "12967       23456     8.0                                    Arcana Famiglia\n",
            "13115       23456     8.0                                Hakuouki Reimeiroku\n",
            "14027       23456     8.0  Boku wa Tomodachi ga Sukunai: Relay Shousetsu ...\n",
            "14131       23456     8.0                                   Girls und Panzer\n",
            "14511       23456     8.0                                  Minami-ke Tadaima\n",
            "14967       23456     8.0                  Boku wa Tomodachi ga Sukunai Next\n",
            "15085       23456     8.0                                            Amnesia\n",
            "16201       23456     8.0                                        Aku no Hana\n",
            "19117       23456     8.0                         Toaru Hikuushi e no Koiuta\n",
            "20767       23456     8.0                                       Noragami OVA\n",
            "21995       23456     8.0                                       Ao Haru Ride\n",
            "22547       23456     8.0                                   Blade &amp; Soul\n",
            "23311       23456     8.0                              Garo: Honoo no Kokuin\n",
            "24151       23456     8.0                                   Ao Haru Ride OVA\n",
            "28249       23456     8.0                                  Arslan Senki (TV)\n",
            "28497       23456     8.0                                    Rokka no Yuusha\n",
            "32438       23456     8.0                                            Mayoiga\n",
            "\n",
            "[61 rows x 3 columns]\n"
          ],
          "name": "stdout"
        }
      ]
    },
    {
      "metadata": {
        "id": "3s3yXRd4xJnV",
        "colab_type": "text"
      },
      "cell_type": "markdown",
      "source": [
        "#Recommendation with SVD"
      ]
    },
    {
      "metadata": {
        "id": "9wk_AXkCxLdD",
        "colab_type": "code",
        "outputId": "b5298747-45e0-47f0-e317-daf8586710fd",
        "colab": {
          "base_uri": "https://localhost:8080/",
          "height": 52
        }
      },
      "cell_type": "code",
      "source": [
        "user_23456 = anime.copy()\n",
        "user_23456 = user_23456.reset_index()\n",
        "user_23456 = user_23456[~user_23456['anime_id'].isin(drop_anime_list)]\n",
        "\n",
        "# getting full dataset\n",
        "data = Dataset.load_from_df(df[['user_id', 'anime_id', 'rating']], reader)\n",
        "\n",
        "trainset = data.build_full_trainset()\n",
        "svd.train(trainset)\n",
        "\n",
        "user_23456['Estimate_Score'] = user_23456['anime_id'].apply(lambda x: svd.predict(23456, x).est)\n",
        "\n",
        "user_23456 = user_23456.drop( 'anime_id', axis = 1)\n",
        "\n",
        "user_23456 = user_23456.sort_values('Estimate_Score', ascending=False)\n"
      ],
      "execution_count": 0,
      "outputs": [
        {
          "output_type": "stream",
          "text": [
            "/usr/local/lib/python3.6/dist-packages/surprise/prediction_algorithms/algo_base.py:51: UserWarning: train() is deprecated. Use fit() instead\n",
            "  warnings.warn('train() is deprecated. Use fit() instead', UserWarning)\n"
          ],
          "name": "stderr"
        }
      ]
    },
    {
      "metadata": {
        "id": "1QXBXEeazk5H",
        "colab_type": "code",
        "outputId": "58ed6683-3194-4543-b3b6-bff366bde40b",
        "colab": {
          "base_uri": "https://localhost:8080/",
          "height": 629
        }
      },
      "cell_type": "code",
      "source": [
        "print(user_23456.head(10))"
      ],
      "execution_count": 0,
      "outputs": [
        {
          "output_type": "stream",
          "text": [
            "                                                  name  \\\n",
            "0                                       Kimi no Na wa.   \n",
            "9196     Kero Kero Keroppi no Tomodachi wa Mahoutsukai   \n",
            "9204                    Kibun wa Uaa Jitsuzai OL Kouza   \n",
            "9203                                Ki-Fighter Taerang   \n",
            "9200                                     Keshikasu-kun   \n",
            "9199    Kero Kero Keroppi: Hasunoue Town Kiki Ippatsu!   \n",
            "9198  Kero Kero Keroppi no Yowamushi-ouji no Daibouken   \n",
            "9197           Kero Kero Keroppi no Tomodachitte Ii na   \n",
            "9195        Kero Kero Keroppi no Tomodachi ni Narou yo   \n",
            "9726         Niji no Kanata e! Shoujo Diana Monogatari   \n",
            "\n",
            "                                     genre     type episodes  rating  members  \\\n",
            "0     Drama, Romance, School, Supernatural    Movie        1    9.37   200630   \n",
            "9196                           Kids, Magic      OVA        1    5.73       71   \n",
            "9204                        Comedy, Seinen      OVA        1    5.83       51   \n",
            "9203                       Adventure, Kids       TV       26    5.92       81   \n",
            "9200                          Comedy, Kids       TV  Unknown    4.63      157   \n",
            "9199                         Fantasy, Kids       TV        6    6.62       71   \n",
            "9198              Adventure, Fantasy, Kids      OVA        1    6.21       88   \n",
            "9197                                  Kids      OVA        1    6.31       71   \n",
            "9195                         Fantasy, Kids      OVA        1    5.92       70   \n",
            "9726                    Historical, Shoujo  Special        1    6.30      136   \n",
            "\n",
            "      Estimate_Score  \n",
            "0                  5  \n",
            "9196               5  \n",
            "9204               5  \n",
            "9203               5  \n",
            "9200               5  \n",
            "9199               5  \n",
            "9198               5  \n",
            "9197               5  \n",
            "9195               5  \n",
            "9726               5  \n"
          ],
          "name": "stdout"
        }
      ]
    },
    {
      "metadata": {
        "id": "wVAA7z0E3iwL",
        "colab_type": "code",
        "outputId": "8f17b105-76e0-411c-a1a6-def651ac8c30",
        "colab": {
          "base_uri": "https://localhost:8080/",
          "height": 197
        }
      },
      "cell_type": "code",
      "source": [
        "df_23456all = df[df['user_id'] == 23456 ]\n",
        "df_23456all.head()"
      ],
      "execution_count": 0,
      "outputs": [
        {
          "output_type": "execute_result",
          "data": {
            "text/html": [
              "<div>\n",
              "<style scoped>\n",
              "    .dataframe tbody tr th:only-of-type {\n",
              "        vertical-align: middle;\n",
              "    }\n",
              "\n",
              "    .dataframe tbody tr th {\n",
              "        vertical-align: top;\n",
              "    }\n",
              "\n",
              "    .dataframe thead th {\n",
              "        text-align: right;\n",
              "    }\n",
              "</style>\n",
              "<table border=\"1\" class=\"dataframe\">\n",
              "  <thead>\n",
              "    <tr style=\"text-align: right;\">\n",
              "      <th></th>\n",
              "      <th>user_id</th>\n",
              "      <th>anime_id</th>\n",
              "      <th>rating</th>\n",
              "    </tr>\n",
              "  </thead>\n",
              "  <tbody>\n",
              "    <tr>\n",
              "      <th>2460964</th>\n",
              "      <td>23456</td>\n",
              "      <td>1</td>\n",
              "      <td>9.0</td>\n",
              "    </tr>\n",
              "    <tr>\n",
              "      <th>2460965</th>\n",
              "      <td>23456</td>\n",
              "      <td>5</td>\n",
              "      <td>8.0</td>\n",
              "    </tr>\n",
              "    <tr>\n",
              "      <th>2460966</th>\n",
              "      <td>23456</td>\n",
              "      <td>16</td>\n",
              "      <td>10.0</td>\n",
              "    </tr>\n",
              "    <tr>\n",
              "      <th>2460967</th>\n",
              "      <td>23456</td>\n",
              "      <td>30</td>\n",
              "      <td>10.0</td>\n",
              "    </tr>\n",
              "    <tr>\n",
              "      <th>2460968</th>\n",
              "      <td>23456</td>\n",
              "      <td>33</td>\n",
              "      <td>9.0</td>\n",
              "    </tr>\n",
              "  </tbody>\n",
              "</table>\n",
              "</div>"
            ],
            "text/plain": [
              "         user_id  anime_id  rating\n",
              "2460964    23456         1     9.0\n",
              "2460965    23456         5     8.0\n",
              "2460966    23456        16    10.0\n",
              "2460967    23456        30    10.0\n",
              "2460968    23456        33     9.0"
            ]
          },
          "metadata": {
            "tags": []
          },
          "execution_count": 214
        }
      ]
    },
    {
      "metadata": {
        "id": "TBAnchm55_ey",
        "colab_type": "code",
        "outputId": "874b6cbb-918f-4871-950f-1bb2592aa623",
        "colab": {
          "base_uri": "https://localhost:8080/",
          "height": 389
        }
      },
      "cell_type": "code",
      "source": [
        "df_23456all.rating.value_counts().plot(kind=\"bar\")\n",
        "plt.ylabel(u\"Number of ratings\")\n",
        "plt.title(u\"Ratings distribution of user 23456\")\n",
        "\n",
        "plt.legend()"
      ],
      "execution_count": 0,
      "outputs": [
        {
          "output_type": "execute_result",
          "data": {
            "text/plain": [
              "<matplotlib.legend.Legend at 0x7f1dc1501e48>"
            ]
          },
          "metadata": {
            "tags": []
          },
          "execution_count": 215
        },
        {
          "output_type": "display_data",
          "data": {
            "image/png": "[encoded data removed]",
            "text/plain": [
              "<Figure size 576x396 with 1 Axes>"
            ]
          },
          "metadata": {
            "tags": []
          }
        }
      ]
    },
    {
      "metadata": {
        "id": "B5mnwyRsBT7D",
        "colab_type": "code",
        "colab": {}
      },
      "cell_type": "code",
      "source": [
        ""
      ],
      "execution_count": 0,
      "outputs": []
    },
    {
      "metadata": {
        "id": "3rbYQcHLypIl",
        "colab_type": "text"
      },
      "cell_type": "markdown",
      "source": [
        "#Recommend with Pearsons' R correlations"
      ]
    },
    {
      "metadata": {
        "id": "qTMhUvksyyS9",
        "colab_type": "code",
        "colab": {}
      },
      "cell_type": "code",
      "source": [
        "def recommend(anime_title, min_count):\n",
        "    print(\"For anime ({})\".format(anime_title))\n",
        "    print(\"- Top 10 anime recommended based on Pearsons'R correlation - \")\n",
        "    i = int(anime.index[anime['name'] == anime_title][0])\n",
        "    target = df_p[i]\n",
        "    similar_to_target = df_p.corrwith(target)\n",
        "    corr_target = pd.DataFrame(similar_to_target, columns = ['PearsonR'])\n",
        "    corr_target.dropna(inplace = True)\n",
        "    corr_target = corr_target.sort_values('PearsonR', ascending = False)\n",
        "    corr_target.index = corr_target.index.map(int)\n",
        "    corr_target = corr_target.join(anime).join(df_anime_summary)[['PearsonR', 'name', 'count', 'mean', 'genre','type','episodes','rating']]\n",
        "    print(corr_target[corr_target['count']>min_count][:10].to_string(index=False))"
      ],
      "execution_count": 0,
      "outputs": []
    },
    {
      "metadata": {
        "id": "lyKwk2fk4H4T",
        "colab_type": "code",
        "outputId": "c81872e6-5ae5-4e2d-9354-95c35d3a3b91",
        "colab": {
          "base_uri": "https://localhost:8080/",
          "height": 262
        }
      },
      "cell_type": "code",
      "source": [
        "recommend(\"Gintama\", 0)"
      ],
      "execution_count": 0,
      "outputs": [
        {
          "output_type": "stream",
          "text": [
            "For anime (Gintama)\n",
            "- Top 10 anime recommended based on Pearsons'R correlation - \n",
            "PearsonR                                               name  count      mean                                              genre     type episodes  rating\n",
            "                                                                                                                                                         \n",
            "1.000000                                            Gintama   4264  9.236398  Action, Comedy, Historical, Parody, Samurai, S...       TV      201    9.04\n",
            "0.823223                                      Gintama&#039;   3115  9.272552  Action, Comedy, Historical, Parody, Samurai, S...       TV       51    9.16\n",
            "0.669844                           Gintama&#039;: Enchousen   2126  9.202258  Action, Comedy, Historical, Parody, Samurai, S...       TV       13    9.11\n",
            "0.592805                                           Gintama°   1188  9.449495  Action, Comedy, Historical, Parody, Samurai, S...       TV       51    9.25\n",
            "0.560588             Gintama Movie: Shinyaku Benizakura-hen   1768  8.648756  Action, Comedy, Historical, Parody, Samurai, S...    Movie        1    8.59\n",
            "0.522482  Gintama Movie: Kanketsu-hen - Yorozuya yo Eien...   2147  9.191430  Action, Comedy, Historical, Parody, Samurai, S...    Movie        1    9.10\n",
            "0.519856          Tales of Zestiria the X: Saiyaku no Jidai    663  7.583710                                    Action, Fantasy  Special        1    7.44\n",
            "0.515017                         Gintama: Shiroyasha Koutan   1027  8.436222         Action, Comedy, Historical, Parody, Sci-Fi  Special        1    8.37\n",
            "0.491583  Gintama: Nanigoto mo Saiyo ga Kanjin nano de T...   1299  8.193226  Action, Comedy, Historical, Mecha, Parody, Sam...  Special        1    8.13\n",
            "0.459963                                 Yuru Yuri San☆Hai!    856  8.037383           Comedy, School, Shoujo Ai, Slice of Life       TV       12    8.04\n"
          ],
          "name": "stdout"
        }
      ]
    }
  ]
}